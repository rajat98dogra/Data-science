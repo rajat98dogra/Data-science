{
 "metadata": {
  "language_info": {
   "codemirror_mode": {
    "name": "ipython",
    "version": 3
   },
   "file_extension": ".py",
   "mimetype": "text/x-python",
   "name": "python",
   "nbconvert_exporter": "python",
   "pygments_lexer": "ipython3",
   "version": "3.7.9-final"
  },
  "orig_nbformat": 2,
  "kernelspec": {
   "name": "python3",
   "display_name": "Python 3.7.9 64-bit ('venv')",
   "metadata": {
    "interpreter": {
     "hash": "5e091fcb94333777484c069c9a9b5e3ad03f81fa58a1db6c941c2b7b685900e8"
    }
   }
  }
 },
 "nbformat": 4,
 "nbformat_minor": 2,
 "cells": [
  {
   "source": [
    "<h1> Gradient descent  </h1>"
   ],
   "cell_type": "markdown",
   "metadata": {}
  },
  {
   "cell_type": "code",
   "execution_count": null,
   "metadata": {},
   "outputs": [],
   "source": [
    "import numpy as np\n",
    "import matplotlib.pyplot as plt\n",
    "from sklearn.linear_model import LinearRegression\n",
    "import pandas as pd\n",
    "import math\n",
    "import seaborn as sns\n",
    "from sklearn.model_selection import train_test_split"
   ]
  },
  {
   "cell_type": "code",
   "execution_count": null,
   "metadata": {},
   "outputs": [],
   "source": [
    "data = pd.read_csv('house.csv')\n",
    "data"
   ]
  },
  {
   "cell_type": "code",
   "execution_count": null,
   "metadata": {},
   "outputs": [],
   "source": [
    "# def cost(y,ypred,n):\n",
    "#     return (1/n)*(np.sum((y-ypred)**2))\n"
   ]
  },
  {
   "cell_type": "code",
   "execution_count": null,
   "metadata": {},
   "outputs": [],
   "source": [
    "def gradientDecent(x,y,n,lr=0.001,iterations=10):\n",
    "    curb0=0\n",
    "    curb1=0\n",
    "    er=[]\n",
    "    sns.scatterplot(x,y)\n",
    "    for i in range(iterations):\n",
    "        ypred=curb0 + curb1*x\n",
    "        cost= (1/n)*(np.sum([v**2 for v in (y-ypred)]))\n",
    "        d_b0= -(2/n)*lr*(np.sum(x*(y-ypred)))\n",
    "        d_b1= -(2/n)*lr*(np.sum((y-ypred)))\n",
    "        curb0-= lr*d_b0\n",
    "        curb1 -= lr*d_b1\n",
    "        er.append(cost)\n",
    "    plt.plot(x,ypred,color='green')"
   ]
  },
  {
   "cell_type": "code",
   "execution_count": null,
   "metadata": {},
   "outputs": [],
   "source": [
    "n=(data.shape[0])\n",
    "X=data.iloc[:,0]\n",
    "# print(X)\n",
    "gradientDecent(X,data.iloc[:,2],n,lr=0.002 ,iterations=200)"
   ]
  },
  {
   "source": [
    "<h1> multi variable</h1>"
   ],
   "cell_type": "markdown",
   "metadata": {}
  },
  {
   "cell_type": "code",
   "execution_count": null,
   "metadata": {},
   "outputs": [],
   "source": [
    "data=data\n",
    "data"
   ]
  },
  {
   "cell_type": "code",
   "execution_count": null,
   "metadata": {},
   "outputs": [],
   "source": [
    "def Gradient_decent(x,y,n,theta,lr=0.001,iterations=10):\n",
    "    costlist=[]\n",
    "    for i in range(iterations):\n",
    "        # print(theta.shape)\n",
    "        pred= np.dot(x,theta)\n",
    "        error = pred - y\n",
    "        cost = 1/(2*n) * np.dot(error.T, error) \n",
    "        theta = theta - (lr*(1/n)*np.dot(X.T,error))\n",
    "        costlist.append(cost)\n",
    "    # print(pred)\n",
    "    plt.plot(costlist)\n",
    "    return theta"
   ]
  },
  {
   "cell_type": "code",
   "execution_count": null,
   "metadata": {},
   "outputs": [],
   "source": [
    "X=data.iloc[:,0:2]\n",
    "ones= np.ones([X.shape[0],1])\n",
    "X=np.concatenate((ones,X),axis=1)\n",
    "X=(X-X.mean())/X.std()\n",
    "y=data.iloc[:,2]\n",
    "y=(y-y.mean())/y.std()\n",
    "n=y.size\n",
    "theta = np.random.rand(X.shape[1]) \n",
    "theta = Gradient_decent(X,y,n,theta,0.09,10000)\n",
    "print(theta)"
   ]
  },
  {
   "cell_type": "code",
   "execution_count": null,
   "metadata": {},
   "outputs": [],
   "source": [
    "lr=LinearRegression()\n",
    "lr.fit(X,y)"
   ]
  },
  {
   "cell_type": "code",
   "execution_count": null,
   "metadata": {},
   "outputs": [],
   "source": [
    "lr.score(X,y)"
   ]
  },
  {
   "cell_type": "code",
   "execution_count": null,
   "metadata": {},
   "outputs": [],
   "source": []
  }
 ]
}