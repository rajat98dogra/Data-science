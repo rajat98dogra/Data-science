{
 "metadata": {
  "language_info": {
   "codemirror_mode": {
    "name": "ipython",
    "version": 3
   },
   "file_extension": ".py",
   "mimetype": "text/x-python",
   "name": "python",
   "nbconvert_exporter": "python",
   "pygments_lexer": "ipython3",
   "version": "3.7.9-final"
  },
  "orig_nbformat": 2,
  "kernelspec": {
   "name": "python3",
   "display_name": "Python 3",
   "language": "python"
  }
 },
 "nbformat": 4,
 "nbformat_minor": 2,
 "cells": [
  {
   "source": [
    "<h2>\n",
    "conf_matrix<br>\n",
    "<pre>\n",
    "def find_conf_matrix_values(y_true,y_pred):<br>\n",
    "    # calculate TP, FN, FP, TN\n",
    "    TP = find_TP(y_true,y_pred)\n",
    "    FN = find_FN(y_true,y_pred)\n",
    "    FP = find_FP(y_true,y_pred)\n",
    "    TN = find_TN(y_true,y_pred)\n",
    "    return TP,FN,FP,TN\n",
    "def my_confusion_matrix(y_true, y_pred):\n",
    "    TP,FN,FP,TN = find_conf_matrix_values(y_true,y_pred)\n",
    "    return np.array([[TN,FP],[FN,TP]])  \n",
    "\n",
    " calling >> my_confusion_matrix(df.actual_label.values, df.predicted_RF.values)\n",
    "</pre>\n",
    "</h2>"
   ],
   "cell_type": "markdown",
   "metadata": {}
  },
  {
   "source": [
    "<h2>\n",
    "<pre>\n",
    "def my_accuracy_score(y_true, y_pred):\n",
    "    # calculates the fraction of samples predicted correctly\n",
    "    TP,FN,FP,TN = find_conf_matrix_values(y_true,y_pred)  \n",
    "    return (TP+TN) / (TP+FN+FP+TN)\n",
    "\n",
    "print('Accuracy: %.3f'%(my_accuracy_score(df.actual_label.values, df.predicted_LR.values)))\n",
    "<pre>\n",
    "</h2>"
   ],
   "cell_type": "markdown",
   "metadata": {}
  },
  {
   "source": [
    "<h2>\n",
    "<pre>\n",
    "def my_recall(y_true, y_pred):\n",
    "    # calculates the fraction of samples predicted correctly\n",
    "    TP,FN,FP,TN = find_conf_matrix_values(y_true,y_pred)  \n",
    "    return (TP) / (TP+FN)\n",
    "\n",
    "print('Recall: %.3f'%(my_recall(df.actual_label.values, df.predicted_LR.values)))\n",
    "<pre>\n",
    "</h2>"
   ],
   "cell_type": "markdown",
   "metadata": {}
  },
  {
   "source": [
    "<h2>\n",
    "<pre>\n",
    "def my_Precision(y_true, y_pred):\n",
    "    # calculates the fraction of samples predicted correctly\n",
    "    TP,FN,FP,TN = find_conf_matrix_values(y_true,y_pred)  \n",
    "    return (TP) / (TP+FP)\n",
    "\n",
    "print('Precision: %.3f'%(my_Precision(df.actual_label.values, df.predicted_LR.values)))\n",
    "<pre>\n",
    "</h2>"
   ],
   "cell_type": "markdown",
   "metadata": {}
  },
  {
   "source": [
    "<h2>\n",
    "<pre>\n",
    "def my_f1_score(y_true, y_pred):\n",
    "    # calculates the fraction of samples predicted correctly\n",
    "    TP,FN,FP,TN = find_conf_matrix_values(y_true,y_pred)  \n",
    "    recall = my_recall(y_true,y_pred)  \n",
    "    precision = my_precision(y_true,y_pred)  \n",
    "    return (2*recall*precision)/(recall+precision)\n",
    "\n",
    "print('f1_score: %.3f'%(my_f1_score(df.actual_label.values, df.predicted_LR.values)))\n",
    "<pre>\n",
    "</h2>"
   ],
   "cell_type": "markdown",
   "metadata": {}
  }
 ]
}